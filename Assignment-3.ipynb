{
 "cells": [
  {
   "cell_type": "markdown",
   "id": "f99853d6",
   "metadata": {},
   "source": [
    "# Assignment-3"
   ]
  },
  {
   "cell_type": "markdown",
   "id": "ee820249",
   "metadata": {},
   "source": [
    "Question-1:"
   ]
  },
  {
   "cell_type": "markdown",
   "id": "4b248d14",
   "metadata": {},
   "source": [
    "Functions in programs are advantageous because they promote modularity, code reusability, abstraction, maintainability, readability, and encapsulation. They make the code more organized, easier to understand, and efficient to maintain."
   ]
  },
  {
   "cell_type": "markdown",
   "id": "bc76ec09",
   "metadata": {},
   "source": [
    "Question-2:"
   ]
  },
  {
   "cell_type": "markdown",
   "id": "ddf78300",
   "metadata": {},
   "source": [
    "\n",
    "The code in a function runs when the function is called. When you define a function, you are specifying what actions the function should perform when it is invoked. However, the actual execution of the code within the function occurs only when the function is called or invoked at a specific point in the program. The function call triggers the execution of the code inside the function, and once the function completes its tasks or reaches a return statement, the control is returned to the calling code."
   ]
  },
  {
   "cell_type": "markdown",
   "id": "ae48af3a",
   "metadata": {},
   "source": [
    "Question-3:"
   ]
  },
  {
   "cell_type": "markdown",
   "id": "e479e4a5",
   "metadata": {},
   "source": [
    "The def keyword is used to define a function, followed by the desired function_name and a set of parentheses containing optional parameters. And it consists of the instructions or operations that the function will execute when called."
   ]
  },
  {
   "cell_type": "markdown",
   "id": "beed47cf",
   "metadata": {},
   "source": [
    "Question-4:"
   ]
  },
  {
   "cell_type": "markdown",
   "id": "c2199341",
   "metadata": {},
   "source": [
    "A function is the definition or declaration of a reusable block of code, while a function call is the actual act of invoking or running that function with specific inputs. The function call triggers the execution of the code within the function, allowing it to perform its intended tasks."
   ]
  },
  {
   "cell_type": "markdown",
   "id": "d5cc67bf",
   "metadata": {},
   "source": [
    "Question-5:"
   ]
  },
  {
   "cell_type": "markdown",
   "id": "7ea83cfd",
   "metadata": {},
   "source": [
    "A Python program has one global scope and multiple local scopes. The global scope encompasses the entire program, while each function call or code block creates a new local scope."
   ]
  },
  {
   "cell_type": "markdown",
   "id": "618142f2",
   "metadata": {},
   "source": [
    "Qusetion-6:"
   ]
  },
  {
   "cell_type": "markdown",
   "id": "837420da",
   "metadata": {},
   "source": [
    "When a function call returns in Python, the local variables in the function's scope are deallocated from memory, and their values are no longer accessible outside of the function."
   ]
  },
  {
   "cell_type": "markdown",
   "id": "c601f095",
   "metadata": {},
   "source": [
    "Question-7:"
   ]
  },
  {
   "cell_type": "markdown",
   "id": "4711bae2",
   "metadata": {},
   "source": [
    "A return value is the output or result that a function produces when it is called. It can be used in expressions, assigned to variables, or passed as an argument to another function. Return values enable functions to provide computed or processed data back to the calling code for further use or manipulation."
   ]
  },
  {
   "cell_type": "markdown",
   "id": "e0a6c441",
   "metadata": {},
   "source": [
    "Question-8:"
   ]
  },
  {
   "cell_type": "markdown",
   "id": "1962a805",
   "metadata": {},
   "source": [
    "\n",
    "If a function does not have a return statement, or if the return statement is omitted, the return value of a call to that function is None by default. None is a special value in Python that represents the absence of a value."
   ]
  },
  {
   "cell_type": "markdown",
   "id": "bf56c2fb",
   "metadata": {},
   "source": [
    "Question-9:"
   ]
  },
  {
   "cell_type": "markdown",
   "id": "5da4a46a",
   "metadata": {},
   "source": [
    "\n",
    "To make a function variable refer to the global variable, use the global keyword before the variable name within the function. This allows you to modify the global variable instead of creating a new local variable with the same name."
   ]
  },
  {
   "cell_type": "markdown",
   "id": "137b53de",
   "metadata": {},
   "source": [
    "Question-10:"
   ]
  },
  {
   "cell_type": "markdown",
   "id": "ae92718c",
   "metadata": {},
   "source": [
    "NoneType"
   ]
  },
  {
   "cell_type": "markdown",
   "id": "6e29f877",
   "metadata": {},
   "source": [
    "Question-11:"
   ]
  },
  {
   "cell_type": "markdown",
   "id": "ea3f4316",
   "metadata": {},
   "source": [
    "The sentence \"import areallyourpetsnamederic\" does not have any specific meaning or functionality in Python."
   ]
  },
  {
   "cell_type": "markdown",
   "id": "a2fab6d0",
   "metadata": {},
   "source": [
    "Question-12:"
   ]
  },
  {
   "cell_type": "markdown",
   "id": "6ef1f861",
   "metadata": {},
   "source": [
    "import spam\n",
    "\n",
    "spam.bacon()"
   ]
  },
  {
   "cell_type": "markdown",
   "id": "d6e8aa59",
   "metadata": {},
   "source": [
    "Question-13:"
   ]
  },
  {
   "cell_type": "markdown",
   "id": "fb3bd14e",
   "metadata": {},
   "source": [
    "To prevent a program from crashing when it encounters an error, implement exception handling using try-except blocks."
   ]
  },
  {
   "cell_type": "markdown",
   "id": "744631c6",
   "metadata": {},
   "source": [
    "Question-14:"
   ]
  },
  {
   "cell_type": "markdown",
   "id": "7fc5130f",
   "metadata": {},
   "source": [
    "The purpose of the try clause is to enclose code that might raise an exception, while the purpose of the except clause is to define the handling of specific exceptions that may occur within the try block."
   ]
  },
  {
   "cell_type": "code",
   "execution_count": null,
   "id": "d6fb023f",
   "metadata": {},
   "outputs": [],
   "source": []
  }
 ],
 "metadata": {
  "kernelspec": {
   "display_name": "Python 3 (ipykernel)",
   "language": "python",
   "name": "python3"
  },
  "language_info": {
   "codemirror_mode": {
    "name": "ipython",
    "version": 3
   },
   "file_extension": ".py",
   "mimetype": "text/x-python",
   "name": "python",
   "nbconvert_exporter": "python",
   "pygments_lexer": "ipython3",
   "version": "3.9.13"
  }
 },
 "nbformat": 4,
 "nbformat_minor": 5
}
